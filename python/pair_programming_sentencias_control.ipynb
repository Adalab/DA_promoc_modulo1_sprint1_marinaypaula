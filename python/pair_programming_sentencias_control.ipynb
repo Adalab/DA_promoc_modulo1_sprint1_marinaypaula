{
 "cells": [
  {
   "cell_type": "markdown",
   "metadata": {},
   "source": [
    "En la escuela en la que trabajamos tienen el siguiente esquema de notas:\n",
    "- Below 25 - F\n",
    "- 25 to 45 - E\n",
    "- 45 to 50 - D\n",
    "- 50 to 60 - C\n",
    "- 60 to 80 - B\n",
    "- Above 80 - A\n",
    "Preguntar nota numerica y responder con la letra correspondiente"
   ]
  },
  {
   "cell_type": "code",
   "execution_count": 5,
   "metadata": {},
   "outputs": [
    {
     "name": "stdout",
     "output_type": "stream",
     "text": [
      "Tu nota es D\n"
     ]
    }
   ],
   "source": [
    "#Creamos una variable input nota y la conertimos en int\n",
    "nota = int (input ('Dime tu nota'))\n",
    "#Creamos el condicionante según las notas dadas\n",
    "if nota < 25:\n",
    "    print ('Tu nota es F')\n",
    "elif nota >= 25 and nota < 45:\n",
    "    print ('Tu nota es E')\n",
    "elif nota >=45 and nota < 50:\n",
    "    print ('Tu nota es D')\n",
    "elif nota >= 50 and nota < 60:\n",
    "    print ('Tu nota es C')\n",
    "elif nota >= 60 and nota < 80:\n",
    "    print ('Tu nota es B')\n",
    "elif nota >= 80:\n",
    "    print ('Tu nota es A')"
   ]
  },
  {
   "cell_type": "code",
   "execution_count": 7,
   "metadata": {},
   "outputs": [
    {
     "name": "stdout",
     "output_type": "stream",
     "text": [
      "El mayor es el que tiene: 45 años\n",
      "El menor es el que tiene: 20 años\n"
     ]
    }
   ],
   "source": [
    "#Creamos 3 inputs de edad y determinar quién es mas viejo y más joven\n",
    "edad1 = int (input ('Dime tu edad'))\n",
    "edad2 = int (input ('Dime tu edad'))\n",
    "edad3 = int (input ('Dime tu edad'))\n",
    "#Creamos una lista con las tres edades y printeamos las frases con el maximo y el minimo de la lista\n",
    "lista_edad = [edad1, edad2, edad3]\n",
    "print ('El mayor es el que tiene:', max(lista_edad), 'años')\n",
    "print ('El menor es el que tiene:', min(lista_edad), 'años')"
   ]
  },
  {
   "cell_type": "code",
   "execution_count": 9,
   "metadata": {},
   "outputs": [
    {
     "name": "stdout",
     "output_type": "stream",
     "text": [
      "Buenos días Paula\n"
     ]
    }
   ],
   "source": [
    "#Preguntar nombre de usuario con input. Si el usuario es Bond responder 'Bienbenido a bordo 007', si es otro nombre de usuario, responder 'Buenos días nombre'.\n",
    "nombre = input ('Nombre de usuario:')\n",
    "if nombre == 'Bond':\n",
    "    print ('Bienvenido a bordo 007')\n",
    "else:\n",
    "    print ('Buenos días', nombre)"
   ]
  },
  {
   "cell_type": "code",
   "execution_count": 15,
   "metadata": {},
   "outputs": [],
   "source": [
    "#Dada la lista tree  Crea una lista llamada \"masarboles\" que contenga el nombre de los países con más de 40.000 árboles por kilómetro cuadrado.\n",
    "tree = {\"Taiwan\": 69593,\n",
    "        \"Japan\": 49894, \n",
    "        \"Russia\": 41396, \n",
    "        \"Canada\": 36388, \n",
    "        \"Bulgaria\": 24987}\n",
    "\n",
    "moretrees = []"
   ]
  },
  {
   "cell_type": "code",
   "execution_count": 16,
   "metadata": {},
   "outputs": [
    {
     "name": "stdout",
     "output_type": "stream",
     "text": [
      "['Taiwan', 'Japan', 'Russia']\n"
     ]
    }
   ],
   "source": [
    "#\n",
    "if tree['Taiwan'] > 40000:\n",
    "    moretrees.append('Taiwan')\n",
    "if tree['Japan'] > 40000:\n",
    "    moretrees.append('Japan')\n",
    "if tree['Russia'] > 40000:\n",
    "    moretrees.append('Russia')\n",
    "if tree['Canada'] > 40000:\n",
    "    moretrees.append('Canada')\n",
    "if tree['Bulgaria'] > 40000:\n",
    "    moretrees.append('Bulgaria')\n",
    "\n",
    "print (moretrees)"
   ]
  },
  {
   "cell_type": "code",
   "execution_count": null,
   "metadata": {},
   "outputs": [],
   "source": [
    "#Los alumnos de un curso se han dividido en dos grupos A y B de acuerdo al sexo y el nombre. \n",
    "# El grupo A esta formado por las mujeres con un nombre anterior a la M y los hombres con un nombre posterior a la N y el grupo B por el resto. \n",
    "# Escribid un programa que pregunte al usuario su nombre y sexo, y muestre por pantalla el grupo que le corresponde.\n",
    "persona = input ('Dime tu nombre y sexo separado por comas')\n",
    "lista_persona = persona.split(',')\n"
   ]
  }
 ],
 "metadata": {
  "kernelspec": {
   "display_name": "Python 3.9.13 ('base')",
   "language": "python",
   "name": "python3"
  },
  "language_info": {
   "codemirror_mode": {
    "name": "ipython",
    "version": 3
   },
   "file_extension": ".py",
   "mimetype": "text/x-python",
   "name": "python",
   "nbconvert_exporter": "python",
   "pygments_lexer": "ipython3",
   "version": "3.9.13"
  },
  "orig_nbformat": 4,
  "vscode": {
   "interpreter": {
    "hash": "85c042135e83639dad74b6ec6c9d943b5dc47ca281624d931a3e14168052f53c"
   }
  }
 },
 "nbformat": 4,
 "nbformat_minor": 2
}
