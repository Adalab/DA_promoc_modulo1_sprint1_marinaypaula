{
 "cells": [
  {
   "cell_type": "code",
   "execution_count": 31,
   "metadata": {},
   "outputs": [],
   "source": [
    "#Definimos diccionario1 con las keys nombres, apellidos, edades e hijos\n",
    "diccionario1 = {'nombres':[], 'apellidos':[], 'edades':[], 'hijos':[]}"
   ]
  },
  {
   "cell_type": "code",
   "execution_count": 5,
   "metadata": {},
   "outputs": [],
   "source": [
    "#Pedimos input nombres y lo comvertimos en lista\n",
    "nombres = input('Dime 3 nombres:')\n",
    "lista_nombres = nombres.split (',')"
   ]
  },
  {
   "cell_type": "code",
   "execution_count": 6,
   "metadata": {},
   "outputs": [
    {
     "name": "stdout",
     "output_type": "stream",
     "text": [
      "['Paula', ' Mari', ' Jose']\n"
     ]
    }
   ],
   "source": [
    "print (lista_nombres)"
   ]
  },
  {
   "cell_type": "code",
   "execution_count": 7,
   "metadata": {},
   "outputs": [],
   "source": [
    "#Pedimos input apellidos y lo comvertimos en lista\n",
    "apellidos = input('Dime sus apellidos:')\n",
    "lista_apellidos = apellidos.split (',')"
   ]
  },
  {
   "cell_type": "code",
   "execution_count": 15,
   "metadata": {},
   "outputs": [],
   "source": [
    "#Pedimos input edades y lo comvertimos en lista\n",
    "edades = input('Sus edades:')\n",
    "lista_edades = int (edades)"
   ]
  },
  {
   "cell_type": "code",
   "execution_count": 21,
   "metadata": {},
   "outputs": [],
   "source": [
    "lista_edades = edades.split (',')"
   ]
  },
  {
   "cell_type": "code",
   "execution_count": 25,
   "metadata": {},
   "outputs": [],
   "source": [
    "# Cambiamos los string por int\n",
    "lista_edades[0] = int(lista_edades[0])\n",
    "lista_edades[1] = int(lista_edades[1])\n",
    "lista_edades[2] = int(lista_edades[2])"
   ]
  },
  {
   "cell_type": "code",
   "execution_count": 9,
   "metadata": {},
   "outputs": [],
   "source": [
    "#Pedimos input hijos y lo comvertimos en lista\n",
    "hijos = input('Dime cuantos hijos tienen:')\n",
    "lista_hijos = int (hijos.split (','))"
   ]
  },
  {
   "cell_type": "code",
   "execution_count": 27,
   "metadata": {},
   "outputs": [],
   "source": [
    "# Cambiamos los string por int\n",
    "lista_hijos [0] = int (lista_hijos [0])\n",
    "lista_hijos [1] = int (lista_hijos [1])\n",
    "lista_hijos [2] = int (lista_hijos [2])"
   ]
  },
  {
   "cell_type": "code",
   "execution_count": 28,
   "metadata": {},
   "outputs": [
    {
     "name": "stdout",
     "output_type": "stream",
     "text": [
      "['Paula', ' Mari', ' Jose']\n",
      "['Fuente', ' Ferreras', ' Garcia']\n",
      "[28, 23, 27]\n",
      "[2, 4, 1]\n"
     ]
    }
   ],
   "source": [
    "print (lista_nombres)\n",
    "print (lista_apellidos)\n",
    "print (lista_edades)\n",
    "print (lista_hijos)\n"
   ]
  },
  {
   "cell_type": "code",
   "execution_count": 32,
   "metadata": {},
   "outputs": [],
   "source": [
    "# Añadimos los valores al diccionario\n",
    "diccionario1 ['nombres'] = lista_nombres"
   ]
  },
  {
   "cell_type": "code",
   "execution_count": 36,
   "metadata": {},
   "outputs": [],
   "source": [
    "diccionario1.update({'apellidos':lista_apellidos})"
   ]
  },
  {
   "cell_type": "code",
   "execution_count": 38,
   "metadata": {},
   "outputs": [],
   "source": [
    "diccionario1 ['edades'] = lista_edades\n",
    "diccionario1 ['hijos'] = lista_hijos"
   ]
  },
  {
   "cell_type": "code",
   "execution_count": 39,
   "metadata": {},
   "outputs": [
    {
     "name": "stdout",
     "output_type": "stream",
     "text": [
      "{'nombres': ['Paula', ' Mari', ' Jose'], 'apellidos': ['Fuente', ' Ferreras', ' Garcia'], 'edades': [28, 23, 27], 'hijos': [2, 4, 1]}\n"
     ]
    }
   ],
   "source": [
    "print (diccionario1)"
   ]
  },
  {
   "cell_type": "code",
   "execution_count": 40,
   "metadata": {},
   "outputs": [
    {
     "data": {
      "text/plain": [
       "dict_keys(['nombres', 'apellidos', 'edades', 'hijos'])"
      ]
     },
     "execution_count": 40,
     "metadata": {},
     "output_type": "execute_result"
    }
   ],
   "source": [
    "#¿Cuales son las keys?\n",
    "diccionario1.keys()"
   ]
  },
  {
   "cell_type": "code",
   "execution_count": 41,
   "metadata": {},
   "outputs": [
    {
     "data": {
      "text/plain": [
       "dict_values([['Paula', ' Mari', ' Jose'], ['Fuente', ' Ferreras', ' Garcia'], [28, 23, 27], [2, 4, 1]])"
      ]
     },
     "execution_count": 41,
     "metadata": {},
     "output_type": "execute_result"
    }
   ],
   "source": [
    "#¿Cuáles son las values?\n",
    "diccionario1.values()"
   ]
  },
  {
   "cell_type": "code",
   "execution_count": 43,
   "metadata": {},
   "outputs": [
    {
     "name": "stdout",
     "output_type": "stream",
     "text": [
      "['Paula', ' Mari', ' Jose']\n",
      "['Fuente', ' Ferreras', ' Garcia']\n"
     ]
    }
   ],
   "source": [
    "#Extraer values de las keys\n",
    "print (diccionario1['nombres'])\n",
    "print (diccionario1.get('apellidos'))"
   ]
  },
  {
   "cell_type": "code",
   "execution_count": 44,
   "metadata": {},
   "outputs": [
    {
     "data": {
      "text/plain": [
       "'desconocido'"
      ]
     },
     "execution_count": 44,
     "metadata": {},
     "output_type": "execute_result"
    }
   ],
   "source": [
    "#Extraer los keys de nacionalidad y si no existe crearlo\n",
    "diccionario1.setdefault('nacionalidad', 'desconocido')"
   ]
  },
  {
   "cell_type": "code",
   "execution_count": 45,
   "metadata": {},
   "outputs": [
    {
     "name": "stdout",
     "output_type": "stream",
     "text": [
      "{'nombres': ['Paula', ' Mari', ' Jose'], 'apellidos': ['Fuente', ' Ferreras', ' Garcia'], 'edades': [28, 23, 27], 'hijos': [2, 4, 1], 'nacionalidad': 'desconocido'}\n"
     ]
    }
   ],
   "source": [
    "print (diccionario1)"
   ]
  },
  {
   "cell_type": "code",
   "execution_count": 46,
   "metadata": {},
   "outputs": [
    {
     "data": {
      "text/plain": [
       "[('apellidos', ['Fuente', ' Ferreras', ' Garcia']),\n",
       " ('edades', [28, 23, 27]),\n",
       " ('hijos', [2, 4, 1]),\n",
       " ('nacionalidad', 'desconocido'),\n",
       " ('nombres', ['Paula', ' Mari', ' Jose'])]"
      ]
     },
     "execution_count": 46,
     "metadata": {},
     "output_type": "execute_result"
    }
   ],
   "source": [
    "#Ordenar los elementos basandonos en las keys y los values\n",
    "sorted(diccionario1.items())"
   ]
  },
  {
   "cell_type": "code",
   "execution_count": 54,
   "metadata": {},
   "outputs": [],
   "source": [
    "#Convertir la lista ordenada en diccionario\n",
    "diccionario2 = dict(diccionario1.items())"
   ]
  },
  {
   "cell_type": "code",
   "execution_count": 57,
   "metadata": {},
   "outputs": [
    {
     "name": "stdout",
     "output_type": "stream",
     "text": [
      "{'nombres': ['Paula', ' Mari', ' Jose'], 'apellidos': ['Fuente', ' Ferreras', ' Garcia'], 'edades': [28, 23, 27], 'hijos': [2, 4, 1], 'nacionalidad': 'desconocido'}\n",
      "<class 'dict'>\n"
     ]
    }
   ],
   "source": [
    "print (diccionario2)\n",
    "print (type(diccionario2))"
   ]
  },
  {
   "cell_type": "code",
   "execution_count": 58,
   "metadata": {},
   "outputs": [
    {
     "data": {
      "text/plain": [
       "('nacionalidad', 'desconocido')"
      ]
     },
     "execution_count": 58,
     "metadata": {},
     "output_type": "execute_result"
    }
   ],
   "source": [
    "#Eliminar key nacionalidad\n",
    "diccionario1.popitem()"
   ]
  },
  {
   "cell_type": "code",
   "execution_count": 59,
   "metadata": {},
   "outputs": [
    {
     "name": "stdout",
     "output_type": "stream",
     "text": [
      "{'nombres': ['Paula', ' Mari', ' Jose'], 'apellidos': ['Fuente', ' Ferreras', ' Garcia'], 'edades': [28, 23, 27], 'hijos': [2, 4, 1]}\n"
     ]
    }
   ],
   "source": [
    "print (diccionario1)"
   ]
  },
  {
   "cell_type": "code",
   "execution_count": 76,
   "metadata": {},
   "outputs": [
    {
     "name": "stdout",
     "output_type": "stream",
     "text": [
      " Mari\n"
     ]
    }
   ],
   "source": [
    "#Quién tiene mas hijos\n",
    "max_hijos = max(diccionario1['hijos'])\n",
    "print (diccionario1['nombres'][diccionario1['hijos'].index(max_hijos)])\n",
    "\n",
    "#Para ver un valor de una lista del value, buscamos la key y seguido entre [] el indice del valor de la lista que queremos mostrar"
   ]
  },
  {
   "cell_type": "code",
   "execution_count": 77,
   "metadata": {},
   "outputs": [
    {
     "name": "stdout",
     "output_type": "stream",
     "text": [
      " Mari\n"
     ]
    }
   ],
   "source": [
    "#Quién es más joven \n",
    "min_edades = min(diccionario1['edades'])\n",
    "print (diccionario1['nombres'][diccionario1['edades'].index(min_edades)])"
   ]
  }
 ],
 "metadata": {
  "kernelspec": {
   "display_name": "Python 3.9.13 ('base')",
   "language": "python",
   "name": "python3"
  },
  "language_info": {
   "codemirror_mode": {
    "name": "ipython",
    "version": 3
   },
   "file_extension": ".py",
   "mimetype": "text/x-python",
   "name": "python",
   "nbconvert_exporter": "python",
   "pygments_lexer": "ipython3",
   "version": "3.9.13"
  },
  "orig_nbformat": 4,
  "vscode": {
   "interpreter": {
    "hash": "85c042135e83639dad74b6ec6c9d943b5dc47ca281624d931a3e14168052f53c"
   }
  }
 },
 "nbformat": 4,
 "nbformat_minor": 2
}
