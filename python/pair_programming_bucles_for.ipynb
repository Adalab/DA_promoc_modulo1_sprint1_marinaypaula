{
 "cells": [
  {
   "cell_type": "code",
   "execution_count": 4,
   "metadata": {},
   "outputs": [],
   "source": [
    "# Escribid un programa que pregunte al usuario una cantidad a invertir, un interés anual y el número de\n",
    "# de años que imprima el capital obtenido cada año que dura la inversión.\n",
    "\n",
    "cantidad = int(input('¿Cuánto quieres  invertir'))\n",
    "interes = int(input('¿A qué interés?'))\n",
    "años = range(int(input('¿Durante cuántos años?')))"
   ]
  },
  {
   "cell_type": "code",
   "execution_count": 6,
   "metadata": {},
   "outputs": [
    {
     "name": "stdout",
     "output_type": "stream",
     "text": [
      "El capital obtenido en el año 0 es 6000\n",
      "El capital obtenido en el año 1 es 12000\n",
      "El capital obtenido en el año 2 es 18000\n"
     ]
    }
   ],
   "source": [
    "for año in años:\n",
    "    capital = capital +(cantidad * interes)\n",
    "    print('El capital obtenido en el año', año, 'es', capital_total)\n",
    "    capital_total = capital"
   ]
  },
  {
   "cell_type": "code",
   "execution_count": 7,
   "metadata": {},
   "outputs": [
    {
     "name": "stdout",
     "output_type": "stream",
     "text": [
      "Dime una frase\n",
      "Dime una letra\n"
     ]
    }
   ],
   "source": [
    "# Escribid un programa en el que se pregunte al usuario por una frase y una letra y muestre por pantalla\n",
    "# el número de veces que aparece la letra en la frase.\n",
    "\n",
    "frase = input(print('Dime una frase'))\n",
    "letra = input(print('Dime una letra'))"
   ]
  },
  {
   "cell_type": "code",
   "execution_count": 8,
   "metadata": {},
   "outputs": [
    {
     "name": "stdout",
     "output_type": "stream",
     "text": [
      "Hay 0 letra  en tu frase.\n"
     ]
    }
   ],
   "source": [
    "total_letras = 0\n",
    "\n",
    "for let in frase:\n",
    "    if let == letra:\n",
    "        total_letras += 1\n",
    "        \n",
    "print('Hay', total_letras, 'letra', letra, 'en tu frase.')"
   ]
  },
  {
   "cell_type": "code",
   "execution_count": 9,
   "metadata": {},
   "outputs": [
    {
     "name": "stdout",
     "output_type": "stream",
     "text": [
      "4 por 1 es igual a 4\n",
      "4 por 2 es igual a 8\n",
      "4 por 3 es igual a 12\n",
      "4 por 4 es igual a 16\n",
      "4 por 5 es igual a 20\n",
      "4 por 6 es igual a 24\n",
      "4 por 7 es igual a 28\n",
      "4 por 8 es igual a 32\n",
      "4 por 9 es igual a 36\n",
      "4 por 10 es igual a 40\n"
     ]
    }
   ],
   "source": [
    "# Escribid un programa que nos devuelva la tabla de multiplicar de un nuḿero especificado en una función input.\n",
    "\n",
    "numero = int(input('Dime un numero'))\n",
    "\n",
    "tabla = [1, 2, 3, 4, 5, 6, 7, 8, 9, 10]\n",
    "\n",
    "for num in tabla:\n",
    "    resultado = (numero*num)\n",
    "    print(numero, 'por', num, 'es igual a', resultado)"
   ]
  },
  {
   "cell_type": "code",
   "execution_count": 10,
   "metadata": {},
   "outputs": [
    {
     "name": "stdout",
     "output_type": "stream",
     "text": [
      "75\n",
      "150\n",
      "145\n"
     ]
    }
   ],
   "source": [
    "# Dada la siguiente lista de números:\n",
    "\n",
    "numbers = [12, 75, 150, 180, 145, 525, 50]\n",
    "\n",
    "# Escribid un programa que muestre sólo los números de la lista que cumplan las siguientes condiciones:\n",
    "   # - Número divisible entre 5\n",
    "   # - Si es mayor de 150, se lo salta y pasa al siguiente numero.\n",
    "   # - Si el número es mayor de 500, se detiene el bucle.\n",
    "\n",
    "for number in numbers:\n",
    "    if number > 500:\n",
    "        break\n",
    "    elif number > 150:\n",
    "        continue\n",
    "    elif number % 5 == 0:\n",
    "        print(number)"
   ]
  },
  {
   "cell_type": "code",
   "execution_count": 17,
   "metadata": {},
   "outputs": [],
   "source": [
    "# Dada la siguiente lista:\n",
    "\n",
    "list1 = [10, 20, 30, 40, 50]"
   ]
  },
  {
   "cell_type": "code",
   "execution_count": 18,
   "metadata": {},
   "outputs": [
    {
     "name": "stdout",
     "output_type": "stream",
     "text": [
      "5\n"
     ]
    }
   ],
   "source": [
    "print(len(list1))"
   ]
  },
  {
   "cell_type": "code",
   "execution_count": 22,
   "metadata": {},
   "outputs": [
    {
     "name": "stdout",
     "output_type": "stream",
     "text": [
      "[50, 40, 30, 20, 10]\n"
     ]
    }
   ],
   "source": [
    "# Imprimir la lista en orden anverso.\n",
    "\n",
    "lista2 = []\n",
    "\n",
    "e = -1\n",
    "\n",
    "for i in list1:\n",
    "    anverso = list1[e]\n",
    "    lista2.append(anverso)\n",
    "    e -= 1\n",
    "\n",
    "print(lista2)"
   ]
  },
  {
   "cell_type": "code",
   "execution_count": 14,
   "metadata": {},
   "outputs": [
    {
     "ename": "TypeError",
     "evalue": "unsupported operand type(s) for ** or pow(): 'str' and 'int'",
     "output_type": "error",
     "traceback": [
      "\u001b[0;31m---------------------------------------------------------------------------\u001b[0m",
      "\u001b[0;31mTypeError\u001b[0m                                 Traceback (most recent call last)",
      "\u001b[0;32m/tmp/ipykernel_3972/3147111492.py\u001b[0m in \u001b[0;36m<module>\u001b[0;34m\u001b[0m\n\u001b[1;32m      2\u001b[0m \u001b[0;34m\u001b[0m\u001b[0m\n\u001b[1;32m      3\u001b[0m \u001b[0;32mfor\u001b[0m \u001b[0mi\u001b[0m \u001b[0;32min\u001b[0m \u001b[0;34m[\u001b[0m\u001b[0;34m'1'\u001b[0m\u001b[0;34m,\u001b[0m\u001b[0;34m'2'\u001b[0m\u001b[0;34m,\u001b[0m\u001b[0;34m'3'\u001b[0m\u001b[0;34m]\u001b[0m\u001b[0;34m:\u001b[0m\u001b[0;34m\u001b[0m\u001b[0;34m\u001b[0m\u001b[0m\n\u001b[0;32m----> 4\u001b[0;31m     \u001b[0mprint\u001b[0m \u001b[0;34m(\u001b[0m\u001b[0mi\u001b[0m\u001b[0;34m**\u001b[0m\u001b[0;36m2\u001b[0m\u001b[0;34m)\u001b[0m\u001b[0;34m\u001b[0m\u001b[0;34m\u001b[0m\u001b[0m\n\u001b[0m",
      "\u001b[0;31mTypeError\u001b[0m: unsupported operand type(s) for ** or pow(): 'str' and 'int'"
     ]
    }
   ],
   "source": [
    "# Dado el siguiente código:\n",
    "\n",
    "for i in ['1','2','3']:\n",
    "    print (i**2)"
   ]
  },
  {
   "cell_type": "code",
   "execution_count": null,
   "metadata": {},
   "outputs": [
    {
     "name": "stdout",
     "output_type": "stream",
     "text": [
      "Da error\n"
     ]
    }
   ],
   "source": [
    "# Haz que no dé error.\n",
    "\n",
    "try:\n",
    "    for i in ['1','2','3']:\n",
    "        print (i**2)\n",
    "except:\n",
    "    print('Da error')"
   ]
  },
  {
   "cell_type": "code",
   "execution_count": null,
   "metadata": {},
   "outputs": [
    {
     "name": "stdout",
     "output_type": "stream",
     "text": [
      "1\n",
      "4\n",
      "9\n"
     ]
    }
   ],
   "source": [
    "try:\n",
    "    for i in ['1','2','3']:\n",
    "        print (int(i)**2)\n",
    "except:\n",
    "    print('Da error')"
   ]
  }
 ],
 "metadata": {
  "kernelspec": {
   "display_name": "Python 3.9.13 ('base')",
   "language": "python",
   "name": "python3"
  },
  "language_info": {
   "codemirror_mode": {
    "name": "ipython",
    "version": 3
   },
   "file_extension": ".py",
   "mimetype": "text/x-python",
   "name": "python",
   "nbconvert_exporter": "python",
   "pygments_lexer": "ipython3",
   "version": "3.9.13"
  },
  "orig_nbformat": 4,
  "vscode": {
   "interpreter": {
    "hash": "85c042135e83639dad74b6ec6c9d943b5dc47ca281624d931a3e14168052f53c"
   }
  }
 },
 "nbformat": 4,
 "nbformat_minor": 2
}
