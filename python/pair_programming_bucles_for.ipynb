{
 "cells": [
  {
   "cell_type": "code",
   "execution_count": 33,
   "metadata": {},
   "outputs": [],
   "source": [
    "# Escribid un programa que pregunte al usuario una cantidad a invertir, un interés anual y el número de\n",
    "# de años que imprima el capital obtenido cada año que dura la inversión.\n",
    "\n",
    "cantidad = int(input('¿Cuánto quieres  invertir'))\n",
    "interes = int(input('¿A qué interés?'))\n",
    "años = range(int(input('¿Durante cuántos años?')))"
   ]
  },
  {
   "cell_type": "code",
   "execution_count": 36,
   "metadata": {},
   "outputs": [
    {
     "name": "stdout",
     "output_type": "stream",
     "text": [
      "El capital obtenido en el año 0 es 2000\n",
      "El capital obtenido en el año 1 es 2000\n",
      "El capital obtenido en el año 2 es 2000\n",
      "El capital obtenido en el año 3 es 2000\n"
     ]
    }
   ],
   "source": [
    "for año in años:\n",
    "    capital = (cantidad * interes)\n",
    "    print('El capital obtenido en el año', año, 'es', capital)\n",
    "    capital_total = capital"
   ]
  },
  {
   "cell_type": "code",
   "execution_count": 40,
   "metadata": {},
   "outputs": [
    {
     "name": "stdout",
     "output_type": "stream",
     "text": [
      "El capital obtenido en el año 0 es 6000\n",
      "El capital obtenido en el año 1 es 4000\n",
      "El capital obtenido en el año 2 es 6000\n",
      "El capital obtenido en el año 3 es 8000\n"
     ]
    }
   ],
   "source": [
    "for año in años:\n",
    "    capital = capital +(cantidad * interes)\n",
    "    print('El capital obtenido en el año', año, 'es', capital_total)\n",
    "    capital_total = capital"
   ]
  },
  {
   "cell_type": "code",
   "execution_count": null,
   "metadata": {},
   "outputs": [],
   "source": [
    "# Escribid un programa en el que se pregunte al usuario por una frase y una letra y muestre por pantalla\n",
    "# el número de veces que aparece la letra en la frase.\n",
    "\n",
    "frase = input(print('Dime una frase'))\n",
    "letra = input(print('Dime una letra'))"
   ]
  },
  {
   "cell_type": "code",
   "execution_count": null,
   "metadata": {},
   "outputs": [],
   "source": [
    "total_letras = \n",
    "\n",
    "for let in frase:\n",
    "    if let == letra\n",
    "    total_letras += 1\n",
    "    print('Hay', 'letras en frase')"
   ]
  }
 ],
 "metadata": {
  "kernelspec": {
   "display_name": "Python 3.9.7 ('base')",
   "language": "python",
   "name": "python3"
  },
  "language_info": {
   "codemirror_mode": {
    "name": "ipython",
    "version": 3
   },
   "file_extension": ".py",
   "mimetype": "text/x-python",
   "name": "python",
   "nbconvert_exporter": "python",
   "pygments_lexer": "ipython3",
   "version": "3.9.7"
  },
  "orig_nbformat": 4,
  "vscode": {
   "interpreter": {
    "hash": "0620710c65b0f5ccc651a2aa8870ae0eb4c70492424a8d7866846658189426a3"
   }
  }
 },
 "nbformat": 4,
 "nbformat_minor": 2
}
